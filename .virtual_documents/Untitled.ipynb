!pip install black


x=10


print(x)



